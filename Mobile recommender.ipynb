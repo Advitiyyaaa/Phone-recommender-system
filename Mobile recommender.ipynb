{
 "cells": [
  {
   "cell_type": "code",
   "execution_count": 162,
   "id": "dc1fd65a-1b09-4c20-90ef-cc1a82a32494",
   "metadata": {},
   "outputs": [],
   "source": [
    "import pandas as pd\n",
    "import numpy as np\n",
    "import seaborn as sns\n",
    "import matplotlib.pyplot as plt"
   ]
  },
  {
   "cell_type": "code",
   "execution_count": 163,
   "id": "ab48b6aa-5f9b-4b6b-b8c5-f536d67d948f",
   "metadata": {},
   "outputs": [],
   "source": [
    "Data = pd.read_csv('Data/Mobiles_Dataset.csv')"
   ]
  },
  {
   "cell_type": "code",
   "execution_count": 164,
   "id": "17fd667e-b337-4e9e-b3f7-91129ddee434",
   "metadata": {},
   "outputs": [
    {
     "data": {
      "text/plain": [
       "(984, 12)"
      ]
     },
     "execution_count": 164,
     "metadata": {},
     "output_type": "execute_result"
    }
   ],
   "source": [
    "Data.shape"
   ]
  },
  {
   "cell_type": "code",
   "execution_count": 165,
   "id": "5210a0a8-5530-40e5-9a6b-fab27f27d861",
   "metadata": {},
   "outputs": [],
   "source": [
    "#reseting index\n",
    "Data.reset_index(inplace=True)"
   ]
  },
  {
   "cell_type": "code",
   "execution_count": 166,
   "id": "6948537f-119d-47a1-ab98-39f60206df26",
   "metadata": {},
   "outputs": [],
   "source": [
    "#Removing Actual Price column\n",
    "Data = Data.iloc[:,[0,1,3,4,5,6,7,8,9,10,11,12]]"
   ]
  },
  {
   "cell_type": "code",
   "execution_count": 167,
   "id": "e36a16cd-3cbc-48cd-be71-e269fcde9b35",
   "metadata": {},
   "outputs": [],
   "source": [
    "Data.reset_index(inplace=True)"
   ]
  },
  {
   "cell_type": "code",
   "execution_count": 168,
   "id": "d5d6b51e-3a5b-4f05-acb3-5b9314870279",
   "metadata": {},
   "outputs": [
    {
     "data": {
      "text/html": [
       "<div>\n",
       "<style scoped>\n",
       "    .dataframe tbody tr th:only-of-type {\n",
       "        vertical-align: middle;\n",
       "    }\n",
       "\n",
       "    .dataframe tbody tr th {\n",
       "        vertical-align: top;\n",
       "    }\n",
       "\n",
       "    .dataframe thead th {\n",
       "        text-align: right;\n",
       "    }\n",
       "</style>\n",
       "<table border=\"1\" class=\"dataframe\">\n",
       "  <thead>\n",
       "    <tr style=\"text-align: right;\">\n",
       "      <th></th>\n",
       "      <th>level_0</th>\n",
       "      <th>index</th>\n",
       "      <th>Product Name</th>\n",
       "      <th>Discount price</th>\n",
       "      <th>Stars</th>\n",
       "      <th>Rating</th>\n",
       "      <th>Reviews</th>\n",
       "      <th>RAM (GB)</th>\n",
       "      <th>Storage (GB)</th>\n",
       "      <th>Display Size (inch)</th>\n",
       "      <th>Camera</th>\n",
       "      <th>Description</th>\n",
       "      <th>Link</th>\n",
       "    </tr>\n",
       "  </thead>\n",
       "  <tbody>\n",
       "    <tr>\n",
       "      <th>0</th>\n",
       "      <td>0</td>\n",
       "      <td>0</td>\n",
       "      <td>Apple iPhone 15 (Green, 128 GB)</td>\n",
       "      <td>₹65,999</td>\n",
       "      <td>4.6</td>\n",
       "      <td>44,793 Ratings</td>\n",
       "      <td>2,402 Reviews</td>\n",
       "      <td>NIL</td>\n",
       "      <td>128</td>\n",
       "      <td>6.1</td>\n",
       "      <td>48MP + 12MP</td>\n",
       "      <td>128 GB ROM15.49 cm (6.1 inch) Super Retina XDR...</td>\n",
       "      <td>https://www.flipkart.com/apple-iphone-15-green...</td>\n",
       "    </tr>\n",
       "  </tbody>\n",
       "</table>\n",
       "</div>"
      ],
      "text/plain": [
       "   level_0  index                     Product Name Discount price  Stars  \\\n",
       "0        0      0  Apple iPhone 15 (Green, 128 GB)        ₹65,999    4.6   \n",
       "\n",
       "           Rating        Reviews RAM (GB) Storage (GB)  Display Size (inch)  \\\n",
       "0  44,793 Ratings  2,402 Reviews      NIL          128                  6.1   \n",
       "\n",
       "        Camera                                        Description  \\\n",
       "0  48MP + 12MP  128 GB ROM15.49 cm (6.1 inch) Super Retina XDR...   \n",
       "\n",
       "                                                Link  \n",
       "0  https://www.flipkart.com/apple-iphone-15-green...  "
      ]
     },
     "execution_count": 168,
     "metadata": {},
     "output_type": "execute_result"
    }
   ],
   "source": [
    "Data.head(1)"
   ]
  },
  {
   "cell_type": "code",
   "execution_count": 169,
   "id": "153d1fcb-cf88-4873-8a05-3d61156859a3",
   "metadata": {},
   "outputs": [],
   "source": [
    "# renaming columns for easy nomenclature\n",
    "Data=Data.copy()\n",
    "Data.rename(columns={\"index\":\"id\",\n",
    "                     \"Product Name\":\"name\",\n",
    "                     \"Discount price\":\"price\",\n",
    "                     \"Stars\":\"stars\",\n",
    "                     \"Reviews\":\"reviews\",\n",
    "                     \"Rating\":\"rating\",\n",
    "                     \"RAM (GB)\":\"RAM\",\n",
    "                     \"Storage (GB)\":\"storage\",\n",
    "                    \"Display Size (inch)\":\"display\",\n",
    "                    \"Camera\":\"camera\",\n",
    "                    \"Description\":\"desc\",\n",
    "                    \"Link\":\"url\"},inplace=True)"
   ]
  },
  {
   "cell_type": "code",
   "execution_count": 170,
   "id": "f9976364-6634-4a30-a7c4-81e8c2bbd49f",
   "metadata": {},
   "outputs": [
    {
     "data": {
      "text/html": [
       "<div>\n",
       "<style scoped>\n",
       "    .dataframe tbody tr th:only-of-type {\n",
       "        vertical-align: middle;\n",
       "    }\n",
       "\n",
       "    .dataframe tbody tr th {\n",
       "        vertical-align: top;\n",
       "    }\n",
       "\n",
       "    .dataframe thead th {\n",
       "        text-align: right;\n",
       "    }\n",
       "</style>\n",
       "<table border=\"1\" class=\"dataframe\">\n",
       "  <thead>\n",
       "    <tr style=\"text-align: right;\">\n",
       "      <th></th>\n",
       "      <th>level_0</th>\n",
       "      <th>id</th>\n",
       "      <th>name</th>\n",
       "      <th>price</th>\n",
       "      <th>stars</th>\n",
       "      <th>rating</th>\n",
       "      <th>reviews</th>\n",
       "      <th>RAM</th>\n",
       "      <th>storage</th>\n",
       "      <th>display</th>\n",
       "      <th>camera</th>\n",
       "      <th>desc</th>\n",
       "      <th>url</th>\n",
       "    </tr>\n",
       "  </thead>\n",
       "  <tbody>\n",
       "    <tr>\n",
       "      <th>0</th>\n",
       "      <td>0</td>\n",
       "      <td>0</td>\n",
       "      <td>Apple iPhone 15 (Green, 128 GB)</td>\n",
       "      <td>₹65,999</td>\n",
       "      <td>4.6</td>\n",
       "      <td>44,793 Ratings</td>\n",
       "      <td>2,402 Reviews</td>\n",
       "      <td>NIL</td>\n",
       "      <td>128</td>\n",
       "      <td>6.1</td>\n",
       "      <td>48MP + 12MP</td>\n",
       "      <td>128 GB ROM15.49 cm (6.1 inch) Super Retina XDR...</td>\n",
       "      <td>https://www.flipkart.com/apple-iphone-15-green...</td>\n",
       "    </tr>\n",
       "  </tbody>\n",
       "</table>\n",
       "</div>"
      ],
      "text/plain": [
       "   level_0  id                             name    price  stars  \\\n",
       "0        0   0  Apple iPhone 15 (Green, 128 GB)  ₹65,999    4.6   \n",
       "\n",
       "           rating        reviews  RAM storage  display       camera  \\\n",
       "0  44,793 Ratings  2,402 Reviews  NIL     128      6.1  48MP + 12MP   \n",
       "\n",
       "                                                desc  \\\n",
       "0  128 GB ROM15.49 cm (6.1 inch) Super Retina XDR...   \n",
       "\n",
       "                                                 url  \n",
       "0  https://www.flipkart.com/apple-iphone-15-green...  "
      ]
     },
     "execution_count": 170,
     "metadata": {},
     "output_type": "execute_result"
    }
   ],
   "source": [
    "Data.head(1)"
   ]
  },
  {
   "cell_type": "code",
   "execution_count": 171,
   "id": "88bdce90-84ab-4993-ab20-22df01f69ca4",
   "metadata": {},
   "outputs": [],
   "source": [
    "# Modifying the product name and removing the whole bracket\n",
    "Data['name'] = Data['name'].str.replace(r'\\s*\\(.*?\\)', '', regex=True)"
   ]
  },
  {
   "cell_type": "code",
   "execution_count": 172,
   "id": "4239f4d6-ccbf-426f-a81b-cb395f3189ce",
   "metadata": {},
   "outputs": [],
   "source": [
    "# Converting rating column into int\n",
    "# Removing the word \"Ratings\" and commas, then convert to integer\n",
    "Data['rating'] = Data['rating'].str.replace(' Ratings', '').str.replace(',', '').astype(int)"
   ]
  },
  {
   "cell_type": "code",
   "execution_count": 173,
   "id": "25e403e5-e7d8-4a11-ab1b-c2229cf0469a",
   "metadata": {},
   "outputs": [],
   "source": [
    "#Same with reviews\n",
    "Data['reviews'] = Data['reviews'].str.replace(' Reviews', '').str.replace(',', '').astype(int)"
   ]
  },
  {
   "cell_type": "code",
   "execution_count": 174,
   "id": "795c55c1-70e2-4f35-8970-e86a4390538c",
   "metadata": {},
   "outputs": [],
   "source": [
    "#Same with price\n",
    "Data['price'] = Data['price'].str.replace('₹', '').str.replace(',', '').str.strip()\n",
    "Data['price'] = Data['price'].replace('', pd.NA)\n",
    "Data.dropna(subset=['price'], inplace=True)\n",
    "Data['price'] = Data['price'].astype(int)"
   ]
  },
  {
   "cell_type": "code",
   "execution_count": 175,
   "id": "07ae9c0a-f50f-49c5-8284-ef34a2d9c6e9",
   "metadata": {},
   "outputs": [
    {
     "data": {
      "text/plain": [
       "level_0      int64\n",
       "id           int64\n",
       "name        object\n",
       "price        int32\n",
       "stars      float64\n",
       "rating       int32\n",
       "reviews      int32\n",
       "RAM         object\n",
       "storage     object\n",
       "display    float64\n",
       "camera      object\n",
       "desc        object\n",
       "url         object\n",
       "dtype: object"
      ]
     },
     "execution_count": 175,
     "metadata": {},
     "output_type": "execute_result"
    }
   ],
   "source": [
    "Data.dtypes"
   ]
  },
  {
   "cell_type": "code",
   "execution_count": 176,
   "id": "e41b7e4e-9de6-4745-bb6f-31cd7e1cdea3",
   "metadata": {},
   "outputs": [
    {
     "data": {
      "text/plain": [
       "(980, 13)"
      ]
     },
     "execution_count": 176,
     "metadata": {},
     "output_type": "execute_result"
    }
   ],
   "source": [
    "Data.shape"
   ]
  },
  {
   "cell_type": "code",
   "execution_count": 178,
   "id": "8ec64929-18fc-412c-a4ad-761a18186ad9",
   "metadata": {},
   "outputs": [],
   "source": [
    "Data=Data.drop_duplicates(['name'])"
   ]
  },
  {
   "cell_type": "code",
   "execution_count": 179,
   "id": "1570c6a6-6619-4738-8096-43809e9936f8",
   "metadata": {},
   "outputs": [
    {
     "data": {
      "text/html": [
       "<div>\n",
       "<style scoped>\n",
       "    .dataframe tbody tr th:only-of-type {\n",
       "        vertical-align: middle;\n",
       "    }\n",
       "\n",
       "    .dataframe tbody tr th {\n",
       "        vertical-align: top;\n",
       "    }\n",
       "\n",
       "    .dataframe thead th {\n",
       "        text-align: right;\n",
       "    }\n",
       "</style>\n",
       "<table border=\"1\" class=\"dataframe\">\n",
       "  <thead>\n",
       "    <tr style=\"text-align: right;\">\n",
       "      <th></th>\n",
       "      <th>level_0</th>\n",
       "      <th>id</th>\n",
       "      <th>name</th>\n",
       "      <th>price</th>\n",
       "      <th>stars</th>\n",
       "      <th>rating</th>\n",
       "      <th>reviews</th>\n",
       "      <th>RAM</th>\n",
       "      <th>storage</th>\n",
       "      <th>display</th>\n",
       "      <th>camera</th>\n",
       "      <th>desc</th>\n",
       "      <th>url</th>\n",
       "    </tr>\n",
       "  </thead>\n",
       "  <tbody>\n",
       "    <tr>\n",
       "      <th>0</th>\n",
       "      <td>0</td>\n",
       "      <td>0</td>\n",
       "      <td>Apple iPhone 15</td>\n",
       "      <td>65999</td>\n",
       "      <td>4.6</td>\n",
       "      <td>44793</td>\n",
       "      <td>2402</td>\n",
       "      <td>NIL</td>\n",
       "      <td>128</td>\n",
       "      <td>6.1</td>\n",
       "      <td>48MP + 12MP</td>\n",
       "      <td>128 GB ROM15.49 cm (6.1 inch) Super Retina XDR...</td>\n",
       "      <td>https://www.flipkart.com/apple-iphone-15-green...</td>\n",
       "    </tr>\n",
       "  </tbody>\n",
       "</table>\n",
       "</div>"
      ],
      "text/plain": [
       "   level_0  id             name  price  stars  rating  reviews  RAM storage  \\\n",
       "0        0   0  Apple iPhone 15  65999    4.6   44793     2402  NIL     128   \n",
       "\n",
       "   display       camera                                               desc  \\\n",
       "0      6.1  48MP + 12MP  128 GB ROM15.49 cm (6.1 inch) Super Retina XDR...   \n",
       "\n",
       "                                                 url  \n",
       "0  https://www.flipkart.com/apple-iphone-15-green...  "
      ]
     },
     "execution_count": 179,
     "metadata": {},
     "output_type": "execute_result"
    }
   ],
   "source": [
    "Data.head(1)"
   ]
  },
  {
   "cell_type": "code",
   "execution_count": 180,
   "id": "c6e18397-9afa-421f-9d1f-da8f68e1033c",
   "metadata": {},
   "outputs": [],
   "source": [
    "# Removing Products which has ratings and reviews less than 100\n",
    "mask1=Data['rating']>=50\n",
    "mask2=Data['reviews']>=10\n",
    "Data = Data[mask1 & mask2]"
   ]
  },
  {
   "cell_type": "code",
   "execution_count": 181,
   "id": "26e92666-af8b-497d-8830-ef3e97a3a624",
   "metadata": {},
   "outputs": [
    {
     "data": {
      "text/plain": [
       "(245, 13)"
      ]
     },
     "execution_count": 181,
     "metadata": {},
     "output_type": "execute_result"
    }
   ],
   "source": [
    "Data.shape"
   ]
  },
  {
   "cell_type": "code",
   "execution_count": 182,
   "id": "21de979e-5b02-4743-9547-121dff54c3b8",
   "metadata": {},
   "outputs": [],
   "source": [
    "import pickle\n",
    "from sklearn.feature_extraction.text import TfidfVectorizer\n",
    "from sklearn.metrics.pairwise import cosine_similarity"
   ]
  },
  {
   "cell_type": "code",
   "execution_count": 183,
   "id": "afaec850-b79f-49e4-8260-879a1e59b3eb",
   "metadata": {},
   "outputs": [],
   "source": [
    "Data['features'] = (\n",
    "    Data['name'] + ' ' +\n",
    "    Data['camera'] + ' ' +\n",
    "    Data['price'].astype(str) + ' ' +\n",
    "    Data['stars'].astype(str) + ' ' +\n",
    "    Data['RAM'].astype(str) + ' ' +\n",
    "    Data['storage'].astype(str)\n",
    ")"
   ]
  },
  {
   "cell_type": "code",
   "execution_count": 184,
   "id": "72dfc35e-557c-4391-9ff8-d5678d2649fe",
   "metadata": {},
   "outputs": [
    {
     "name": "stderr",
     "output_type": "stream",
     "text": [
      "C:\\Users\\advit\\AppData\\Local\\Temp\\ipykernel_31680\\970841541.py:1: FutureWarning: A value is trying to be set on a copy of a DataFrame or Series through chained assignment using an inplace method.\n",
      "The behavior will change in pandas 3.0. This inplace method will never work because the intermediate object on which we are setting values always behaves as a copy.\n",
      "\n",
      "For example, when doing 'df[col].method(value, inplace=True)', try using 'df.method({col: value}, inplace=True)' or df[col] = df[col].method(value) instead, to perform the operation inplace on the original object.\n",
      "\n",
      "\n",
      "  Data['features'].fillna('unknown', inplace=True)\n"
     ]
    }
   ],
   "source": [
    "Data['features'].fillna('unknown', inplace=True)\n",
    "Data['features'] = Data['features'].astype(str)"
   ]
  },
  {
   "cell_type": "code",
   "execution_count": 185,
   "id": "215d6145-9e8c-46cd-88d1-71552e4c7406",
   "metadata": {},
   "outputs": [],
   "source": [
    "# Use TfidfVectorizer to create a matrix of features\n",
    "tfidf = TfidfVectorizer()\n",
    "tfidf_matrix = tfidf.fit_transform(Data['features'])"
   ]
  },
  {
   "cell_type": "code",
   "execution_count": 186,
   "id": "e753dbe4-8a7c-45c9-bff8-e31881df9d34",
   "metadata": {},
   "outputs": [],
   "source": [
    "# Compute cosine similarity\n",
    "cosine_sim = cosine_similarity(tfidf_matrix, tfidf_matrix)"
   ]
  },
  {
   "cell_type": "code",
   "execution_count": 187,
   "id": "c1a7c28a-fc9a-4bfd-8a1c-fe5aaebde25b",
   "metadata": {},
   "outputs": [],
   "source": [
    "# Save the model and dataset\n",
    "with open('mobile_recommender_model.pkl', 'wb') as model_file:\n",
    "    pickle.dump(cosine_sim, model_file)\n",
    "\n",
    "Data.to_csv('mobiles_dataset.csv', index=False)"
   ]
  },
  {
   "cell_type": "code",
   "execution_count": null,
   "id": "c8ac491a-4271-46d9-a7e9-30e9f19979c7",
   "metadata": {},
   "outputs": [],
   "source": []
  }
 ],
 "metadata": {
  "kernelspec": {
   "display_name": "Python 3 (ipykernel)",
   "language": "python",
   "name": "python3"
  },
  "language_info": {
   "codemirror_mode": {
    "name": "ipython",
    "version": 3
   },
   "file_extension": ".py",
   "mimetype": "text/x-python",
   "name": "python",
   "nbconvert_exporter": "python",
   "pygments_lexer": "ipython3",
   "version": "3.12.0"
  }
 },
 "nbformat": 4,
 "nbformat_minor": 5
}
